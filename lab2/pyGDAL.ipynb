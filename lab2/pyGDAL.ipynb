{
 "cells": [
  {
   "cell_type": "markdown",
   "metadata": {},
   "source": [
    "# pyGDAL"
   ]
  },
  {
   "cell_type": "code",
   "execution_count": 1,
   "metadata": {},
   "outputs": [
    {
     "name": "stdout",
     "output_type": "stream",
     "text": [
      ".\\puszcza_bukowa_szmaragdowe.asc\n"
     ]
    }
   ],
   "source": [
    "from osgeo import gdal #dane rastrowe\n",
    "from osgeo import ogr #dane wektorowe\n",
    "from osgeo import osr #układy współrzędnych\n",
    "from osgeo import gdal_array #tablica gdal\n",
    "import gdal #można też wczytać w ten sposób jednak dostaniemy informację, że ta metoda jest przestarzała\n",
    "import os\n",
    "import numpy as np\n",
    "from matplotlib import pyplot\n",
    "import rasterio\n",
    "from rasterio.plot import show, show_hist\n",
    "\n",
    "\n",
    "\n",
    "#path=\"A:\\cloud\\SynologyDrive\\Drive\\zut_dropbox\\dydaktyka\\gis_informatyka\\cwiczenie11\" \n",
    "path=r\".\" \n",
    "file=\"puszcza_bukowa_szmaragdowe.asc\"\n",
    "plik=os.path.join(path,file)\n",
    "print(plik)"
   ]
  },
  {
   "cell_type": "markdown",
   "metadata": {},
   "source": [
    "Aby wgrać dane rastrowe musimy najpierw załadować DRIVER GDAL, który inicjuje dany obiekt w określonej strukturze danych. Ponizsza komenda inicjuje od razu wszystkie sterowniki, jednak służy jedynie do odczytu danych. Aby zapisać należy zainicjować odpowiedni sterownik.."
   ]
  },
  {
   "cell_type": "code",
   "execution_count": 2,
   "metadata": {},
   "outputs": [],
   "source": [
    "gdal.AllRegister()"
   ]
  },
  {
   "cell_type": "code",
   "execution_count": 3,
   "metadata": {
    "scrolled": true
   },
   "outputs": [
    {
     "name": "stdout",
     "output_type": "stream",
     "text": [
      "['VRT', 'DERIVED', 'GTiff', 'NITF', 'RPFTOC', 'ECRGTOC', 'HFA', 'SAR_CEOS', 'CEOS', 'JAXAPALSAR', 'GFF', 'ELAS', 'AIG', 'AAIGrid', 'GRASSASCIIGrid', 'SDTS', 'DTED', 'PNG', 'JPEG', 'MEM', 'JDEM', 'GIF', 'BIGGIF', 'ESAT', 'FITS', 'BSB', 'XPM', 'BMP', 'DIMAP', 'AirSAR', 'RS2', 'SAFE', 'PCIDSK', 'PCRaster', 'ILWIS', 'SGI', 'SRTMHGT', 'Leveller', 'Terragen', 'GMT', 'netCDF', 'HDF4', 'HDF4Image', 'ISIS3', 'ISIS2', 'PDS', 'PDS4', 'VICAR', 'TIL', 'ERS', 'JP2OpenJPEG', 'L1B', 'FIT', 'GRIB', 'RMF', 'WCS', 'WMS', 'MSGN', 'RST', 'INGR', 'GSAG', 'GSBG', 'GS7BG', 'COSAR', 'TSX', 'COASP', 'R', 'MAP', 'KMLSUPEROVERLAY', 'PDF', 'Rasterlite', 'MBTiles', 'PLMOSAIC', 'CALS', 'WMTS', 'SENTINEL2', 'MRF', 'TileDB', 'PNM', 'DOQ1', 'DOQ2', 'PAux', 'MFF', 'MFF2', 'FujiBAS', 'GSC', 'FAST', 'BT', 'LAN', 'CPG', 'IDA', 'NDF', 'EIR', 'DIPEx', 'LCP', 'GTX', 'LOSLAS', 'NTv1', 'NTv2', 'CTable2', 'ACE2', 'SNODAS', 'KRO', 'ROI_PAC', 'RRASTER', 'BYN', 'ARG', 'RIK', 'USGSDEM', 'GXF', 'KEA', 'BAG', 'HDF5', 'HDF5Image', 'NWT_GRD', 'NWT_GRC', 'ADRG', 'SRP', 'BLX', 'PostGISRaster', 'SAGA', 'IGNFHeightASCIIGrid', 'XYZ', 'HF2', 'OZI', 'CTG', 'E00GRID', 'ZMap', 'NGSGEOID', 'IRIS', 'PRF', 'RDA', 'EEDAI', 'EEDA', 'DAAS', 'SIGDEM', 'GNMFile', 'GNMDatabase', 'DB2ODBC', 'ESRI Shapefile', 'MapInfo File', 'UK .NTF', 'OGR_SDTS', 'S57', 'DGN', 'OGR_VRT', 'REC', 'Memory', 'BNA', 'CSV', 'NAS', 'GML', 'GPX', 'KML', 'GeoJSON', 'GeoJSONSeq', 'ESRIJSON', 'TopoJSON', 'OGR_GMT', 'GPKG', 'SQLite', 'ODBC', 'WAsP', 'PGeo', 'MSSQLSpatial', 'PostgreSQL', 'OpenFileGDB', 'XPlane', 'DXF', 'CAD', 'Geoconcept', 'GeoRSS', 'GPSTrackMaker', 'VFK', 'PGDUMP', 'OSM', 'GPSBabel', 'SUA', 'OpenAir', 'OGR_PDS', 'WFS', 'WFS3', 'HTF', 'AeronavFAA', 'Geomedia', 'EDIGEO', 'GFT', 'SVG', 'CouchDB', 'Cloudant', 'Idrisi', 'ARCGEN', 'SEGUKOOA', 'SEGY', 'XLS', 'ODS', 'XLSX', 'ElasticSearch', 'Walk', 'Carto', 'AmigoCloud', 'SXF', 'Selafin', 'JML', 'PLSCENES', 'CSW', 'VDV', 'GMLAS', 'MVT', 'TIGER', 'AVCBin', 'AVCE00', 'NGW', 'GenBin', 'ENVI', 'EHdr', 'ISCE', 'HTTP', 'NUMPY']\n",
      "liczba zarejestrowanych sterowników GDAL= 219\n"
     ]
    }
   ],
   "source": [
    "driver_list = []\n",
    "for i in range(gdal.GetDriverCount()):\n",
    "    driver = gdal.GetDriver(i)\n",
    "    driver_list.append(driver.GetDescription())\n",
    "\n",
    "# lista sterowników\n",
    "driver_list = [gdal.GetDriver(i).GetDescription() for i in range(gdal.GetDriverCount())]\n",
    "print(driver_list)\n",
    "drv_count = gdal.GetDriverCount()\n",
    "print('liczba zarejestrowanych sterowników GDAL=',drv_count)"
   ]
  },
  {
   "cell_type": "markdown",
   "metadata": {},
   "source": [
    "szczegółowa lista sterowników oraz ich możliwości znajduje się pod tym adresm: https://gdal.org/drivers/raster/index.html"
   ]
  },
  {
   "cell_type": "markdown",
   "metadata": {},
   "source": [
    "Dodanie konkretnego rodzaju sterownika w tym przypadku GeoTif"
   ]
  },
  {
   "cell_type": "code",
   "execution_count": 4,
   "metadata": {},
   "outputs": [
    {
     "data": {
      "text/plain": [
       "False"
      ]
     },
     "execution_count": 4,
     "metadata": {},
     "output_type": "execute_result"
    }
   ],
   "source": [
    "driver = gdal.GetDriverByName('GTiff')\n",
    "driver == None #sprawdzenie czy sterownik został zarejestrowany"
   ]
  },
  {
   "cell_type": "markdown",
   "metadata": {},
   "source": [
    "lista sterowników z krótkim opisem"
   ]
  },
  {
   "cell_type": "code",
   "execution_count": 5,
   "metadata": {},
   "outputs": [
    {
     "name": "stdout",
     "output_type": "stream",
     "text": [
      "       VRT: Virtual Raster\n",
      "   DERIVED: Derived datasets using VRT pixel functions\n",
      "     GTiff: GeoTIFF\n",
      "      NITF: National Imagery Transmission Format\n",
      "    RPFTOC: Raster Product Format TOC format\n",
      "   ECRGTOC: ECRG TOC format\n",
      "       HFA: Erdas Imagine Images (.img)\n",
      "  SAR_CEOS: CEOS SAR Image\n",
      "      CEOS: CEOS Image\n",
      "JAXAPALSAR: JAXA PALSAR Product Reader (Level 1.1/1.5)\n"
     ]
    }
   ],
   "source": [
    "for idx in range(10):\n",
    "    driver = gdal.GetDriver(idx)\n",
    "    print( \"%10s: %s\" % (driver.ShortName, driver.LongName))"
   ]
  },
  {
   "cell_type": "markdown",
   "metadata": {},
   "source": [
    "Odczyt rastra NMT w formacie AsciiGrid"
   ]
  },
  {
   "cell_type": "code",
   "execution_count": 6,
   "metadata": {},
   "outputs": [
    {
     "data": {
      "text/plain": [
       "['AddBand',\n",
       " 'AdviseRead',\n",
       " 'BeginAsyncReader',\n",
       " 'BuildOverviews',\n",
       " 'CommitTransaction',\n",
       " 'CopyLayer',\n",
       " 'CreateLayer',\n",
       " 'CreateMaskBand',\n",
       " 'DeleteLayer',\n",
       " 'EndAsyncReader',\n",
       " 'ExecuteSQL',\n",
       " 'FlushCache',\n",
       " 'GetDescription',\n",
       " 'GetDriver',\n",
       " 'GetFileList',\n",
       " 'GetGCPCount',\n",
       " 'GetGCPProjection',\n",
       " 'GetGCPSpatialRef',\n",
       " 'GetGCPs',\n",
       " 'GetGeoTransform',\n",
       " 'GetLayer',\n",
       " 'GetLayerByIndex',\n",
       " 'GetLayerByName',\n",
       " 'GetLayerCount',\n",
       " 'GetMetadata',\n",
       " 'GetMetadataDomainList',\n",
       " 'GetMetadataItem',\n",
       " 'GetMetadata_Dict',\n",
       " 'GetMetadata_List',\n",
       " 'GetNextFeature',\n",
       " 'GetProjection',\n",
       " 'GetProjectionRef',\n",
       " 'GetRasterBand',\n",
       " 'GetSpatialRef',\n",
       " 'GetStyleTable',\n",
       " 'GetSubDatasets',\n",
       " 'GetTiledVirtualMem',\n",
       " 'GetTiledVirtualMemArray',\n",
       " 'GetVirtualMem',\n",
       " 'GetVirtualMemArray',\n",
       " 'RasterCount',\n",
       " 'RasterXSize',\n",
       " 'RasterYSize',\n",
       " 'ReadAsArray',\n",
       " 'ReadRaster',\n",
       " 'ReadRaster1',\n",
       " 'ReleaseResultSet',\n",
       " 'ResetReading',\n",
       " 'RollbackTransaction',\n",
       " 'SetDescription',\n",
       " 'SetGCPs',\n",
       " 'SetGeoTransform',\n",
       " 'SetMetadata',\n",
       " 'SetMetadataItem',\n",
       " 'SetProjection',\n",
       " 'SetSpatialRef',\n",
       " 'SetStyleTable',\n",
       " 'StartTransaction',\n",
       " 'TestCapability',\n",
       " 'WriteRaster',\n",
       " '_SetGCPs',\n",
       " '_SetGCPs2',\n",
       " '__class__',\n",
       " '__del__',\n",
       " '__delattr__',\n",
       " '__dict__',\n",
       " '__dir__',\n",
       " '__doc__',\n",
       " '__eq__',\n",
       " '__format__',\n",
       " '__ge__',\n",
       " '__getattr__',\n",
       " '__getattribute__',\n",
       " '__gt__',\n",
       " '__hash__',\n",
       " '__init__',\n",
       " '__init_subclass__',\n",
       " '__le__',\n",
       " '__lt__',\n",
       " '__module__',\n",
       " '__ne__',\n",
       " '__new__',\n",
       " '__reduce__',\n",
       " '__reduce_ex__',\n",
       " '__repr__',\n",
       " '__setattr__',\n",
       " '__sizeof__',\n",
       " '__str__',\n",
       " '__subclasshook__',\n",
       " '__swig_destroy__',\n",
       " '__swig_getmethods__',\n",
       " '__swig_setmethods__',\n",
       " '__weakref__',\n",
       " '_s',\n",
       " 'this']"
      ]
     },
     "execution_count": 6,
     "metadata": {},
     "output_type": "execute_result"
    }
   ],
   "source": [
    "from osgeo import gdal\n",
    "gdal.GetDriverByName('AAIGrid')\n",
    "nmt=gdal.Open(plik)\n",
    "dir(nmt)"
   ]
  },
  {
   "cell_type": "code",
   "execution_count": 7,
   "metadata": {},
   "outputs": [
    {
     "data": {
      "text/plain": [
       "'.\\\\puszcza_bukowa_szmaragdowe.asc'"
      ]
     },
     "execution_count": 7,
     "metadata": {},
     "output_type": "execute_result"
    }
   ],
   "source": [
    "nmt.GetDescription() #nazwa wartstwy"
   ]
  },
  {
   "cell_type": "code",
   "execution_count": 8,
   "metadata": {},
   "outputs": [
    {
     "data": {
      "text/plain": [
       "1"
      ]
     },
     "execution_count": 8,
     "metadata": {},
     "output_type": "execute_result"
    }
   ],
   "source": [
    "nmt.RasterCount #liczba kanałów"
   ]
  },
  {
   "cell_type": "code",
   "execution_count": 9,
   "metadata": {},
   "outputs": [
    {
     "data": {
      "text/plain": [
       "482"
      ]
     },
     "execution_count": 9,
     "metadata": {},
     "output_type": "execute_result"
    }
   ],
   "source": [
    "nmt.RasterYSize #liczba pikseli osi x"
   ]
  },
  {
   "cell_type": "code",
   "execution_count": 10,
   "metadata": {},
   "outputs": [
    {
     "data": {
      "text/plain": [
       "(208859.5, 1.0, 0.0, 620948.5, 0.0, -1.0)"
      ]
     },
     "execution_count": 10,
     "metadata": {},
     "output_type": "execute_result"
    }
   ],
   "source": [
    "nmt.GetGeoTransform() #parametry rastra współrzędne x, rozdzielczość x, współrzędne y, rozdzielczość y jak w pliku tfw"
   ]
  },
  {
   "cell_type": "code",
   "execution_count": 11,
   "metadata": {},
   "outputs": [
    {
     "data": {
      "text/plain": [
       "osgeo.gdal.Dataset"
      ]
     },
     "execution_count": 11,
     "metadata": {},
     "output_type": "execute_result"
    }
   ],
   "source": [
    "type(nmt) #typ wczytanych danych"
   ]
  },
  {
   "cell_type": "markdown",
   "metadata": {},
   "source": [
    "informacje o danych zawartch w pliku"
   ]
  },
  {
   "cell_type": "code",
   "execution_count": 12,
   "metadata": {},
   "outputs": [
    {
     "name": "stdout",
     "output_type": "stream",
     "text": [
      "Driver: AAIGrid/Arc/Info ASCII Grid\n",
      "Files: .\\puszcza_bukowa_szmaragdowe.asc\n",
      "Size is 428, 482\n",
      "Origin = (208859.500000000000000,620948.500000000000000)\n",
      "Pixel Size = (1.000000000000000,-1.000000000000000)\n",
      "Corner Coordinates:\n",
      "Upper Left  (  208859.500,  620948.500) \n",
      "Lower Left  (  208859.500,  620466.500) \n",
      "Upper Right (  209287.500,  620948.500) \n",
      "Lower Right (  209287.500,  620466.500) \n",
      "Center      (  209073.500,  620707.500) \n",
      "Band 1 Block=428x1 Type=Float32, ColorInterp=Undefined\n",
      "  NoData Value=-9999\n",
      "\n"
     ]
    }
   ],
   "source": [
    "print(gdal.Info(nmt))"
   ]
  },
  {
   "cell_type": "code",
   "execution_count": 13,
   "metadata": {},
   "outputs": [
    {
     "name": "stdout",
     "output_type": "stream",
     "text": [
      "min= 40.069999694824\n",
      "max= 93.98999786377\n"
     ]
    }
   ],
   "source": [
    "nmt1 = nmt.GetRasterBand(1)\n",
    "nmt1.ComputeStatistics(0)\n",
    "print ('min=',nmt1.GetMinimum())\n",
    "print ('max=',nmt1.GetMaximum())"
   ]
  },
  {
   "cell_type": "markdown",
   "metadata": {},
   "source": [
    "Przekazanie danych do tablicy numpy"
   ]
  },
  {
   "cell_type": "code",
   "execution_count": 14,
   "metadata": {},
   "outputs": [
    {
     "name": "stdout",
     "output_type": "stream",
     "text": [
      "najwyższa wyskokość= 93.99 [m] n.p.m.\n",
      "najniższa wysokość= 40.07 [m] n.p.m.\n"
     ]
    }
   ],
   "source": [
    "nmt1 = nmt.GetRasterBand(1)\n",
    "array = nmt1.ReadAsArray()\n",
    "max_val = np.amax(array)\n",
    "min_val = np.amin(array)\n",
    "print('najwyższa wyskokość=',max_val,'[m] n.p.m.')\n",
    "print('najniższa wysokość=',min_val, '[m] n.p.m.')"
   ]
  },
  {
   "cell_type": "markdown",
   "metadata": {},
   "source": [
    "nmt.GetProjection()#brak prawidłowo ustawionego układu współrzędnych"
   ]
  },
  {
   "cell_type": "markdown",
   "metadata": {},
   "source": [
    "nadanie układu współrzędnych dla warwty rastrowej"
   ]
  },
  {
   "cell_type": "code",
   "execution_count": 15,
   "metadata": {},
   "outputs": [
    {
     "name": "stdout",
     "output_type": "stream",
     "text": [
      "Definicja współrzędnych OSR:\n",
      " \n",
      "Definicja wspólrzędnych WKT:\n",
      " \n"
     ]
    },
    {
     "data": {
      "text/plain": [
       "0"
      ]
     },
     "execution_count": 15,
     "metadata": {},
     "output_type": "execute_result"
    }
   ],
   "source": [
    "srs = osr.SpatialReference()\n",
    "srs.ImportFromEPSG(2180)\n",
    "print('Definicja współrzędnych OSR:\\n',srs)\n",
    "print('Definicja wspólrzędnych WKT:\\n',srs.ExportToWkt())\n",
    "nmt.SetProjection(srs.ExportToWkt())"
   ]
  },
  {
   "cell_type": "code",
   "execution_count": 16,
   "metadata": {},
   "outputs": [
    {
     "data": {
      "text/plain": [
       "<matplotlib.colorbar.Colorbar at 0x1e2b92154f0>"
      ]
     },
     "execution_count": 16,
     "metadata": {},
     "output_type": "execute_result"
    },
    {
     "data": {
      "image/png": "[encoded data removed]",
      "text/plain": [
       "<Figure size 432x288 with 2 Axes>"
      ]
     },
     "metadata": {
      "needs_background": "light"
     },
     "output_type": "display_data"
    }
   ],
   "source": [
    "nmt1 = nmt.GetRasterBand(1)\n",
    "array = nmt1.ReadAsArray()\n",
    "pyplot.imshow ( array, interpolation='nearest', vmin=min_val, cmap=pyplot.cm.gist_earth)\n",
    "pyplot.colorbar()"
   ]
  },
  {
   "cell_type": "markdown",
   "metadata": {},
   "source": [
    "AsciiGrid konwesrja do GeoTif"
   ]
  },
  {
   "cell_type": "code",
   "execution_count": 17,
   "metadata": {},
   "outputs": [
    {
     "name": "stdout",
     "output_type": "stream",
     "text": [
      "40.07\n",
      "93.99\n",
      "65\n"
     ]
    }
   ],
   "source": [
    "import os\n",
    "import gdal\n",
    "\n",
    "outFileName = 'szmaragdowe_geotif.tif'\n",
    "nmt = gdal.Open(plik)\n",
    "srs = osr.SpatialReference()\n",
    "srs.ImportFromEPSG(2180)\n",
    "\n",
    "\n",
    "band = nmt.GetRasterBand(1) #wczytujemy jako osgeo.gdal.Dataset\n",
    "\n",
    "arr = band.ReadAsArray() #wczytujemy jako tablicę\n",
    "[cols, rows] = arr.shape #konwersja do numpy shape\n",
    "arr_min = arr.min()\n",
    "arr_max = arr.max()\n",
    "arr_mean = int(arr.mean())\n",
    "print(arr_min)\n",
    "print(arr_max)\n",
    "print(arr_mean)\n",
    "\n",
    "driver = gdal.GetDriverByName(\"GTiff\")\n",
    "outdata = driver.Create(outFileName, rows, cols, 1, gdal.GDT_Float32)\n",
    "outdata.SetGeoTransform(nmt.GetGeoTransform())#tra geotransform as input\n",
    "outdata.SetProjection(srs.ExportToWkt())##usatwienie układu współrzędnych 2180\n",
    "outdata.GetRasterBand(1).WriteArray(arr)\n",
    "outdata.GetRasterBand(1).SetNoDataValue(-9999)# błedne piksele przyjmą wartość -9999\n",
    "outdata.FlushCache() # zapis\n",
    "nmt=None"
   ]
  },
  {
   "cell_type": "markdown",
   "metadata": {},
   "source": [
    "# Reklasyfikacja"
   ]
  },
  {
   "cell_type": "code",
   "execution_count": 18,
   "metadata": {},
   "outputs": [],
   "source": [
    "from osgeo import gdal\n",
    "\n",
    "driver = gdal.GetDriverByName('GTiff')\n",
    "file = gdal.Open('szmaragdowe_geotif.tif')\n",
    "band = file.GetRasterBand(1)\n",
    "array = band.ReadAsArray()\n",
    "\n",
    "\n",
    "# reklasyfikacja\n",
    "array[np.where( array < 50 )] = 1\n",
    "array[np.where((50 <= array) & (array < 60)) ] = 2\n",
    "array[np.where((60 <= array) & (array < 70)) ] = 3\n",
    "array[np.where((70 <= array) & (array < 80)) ] = 4\n",
    "array[np.where( array >= 80 )] = 5\n",
    "\n",
    "# zapis pliku\n",
    "file2 = driver.Create( 'szmaragdowe_geotif_reclass.tif', file.RasterXSize , file.RasterYSize , 1)\n",
    "file2.GetRasterBand(1).WriteArray(array)\n",
    "\n",
    "# układ współrzędnych pobierany z pliku źródłowego\n",
    "proj = file.GetProjection()\n",
    "georef = file.GetGeoTransform()\n",
    "file2.SetProjection(proj)\n",
    "file2.SetGeoTransform(georef)\n",
    "file2.FlushCache()\n",
    "array=None"
   ]
  },
  {
   "cell_type": "markdown",
   "metadata": {},
   "source": [
    "Transformacja rastra za pomocą gdal.translate"
   ]
  },
  {
   "cell_type": "code",
   "execution_count": 19,
   "metadata": {},
   "outputs": [],
   "source": [
    "from osgeo import gdal\n",
    "\n",
    "# constants\n",
    "src = 'szmaragdowe_geotif.tif'\n",
    "dst = 'szmaragdowe_geotif_translate.tif'\n",
    "translateoptions = gdal.TranslateOptions(gdal.ParseCommandLine(\"-co TFW=YES -a_srs EPSG:2180 -of Gtiff -co COMPRESS=LZW\"))\n",
    "\n",
    "driver = gdal.GetDriverByName('GTiff')\n",
    "\n",
    "\n",
    "gdal.Translate(dst, src, options=translateoptions)"
   ]
  },
  {
   "cell_type": "markdown",
   "metadata": {},
   "source": [
    "Tranfsormacja z użyciem biblioteki gdal_translate.exe i modułu subprocess (windows)"
   ]
  },
  {
   "cell_type": "code",
   "execution_count": 20,
   "metadata": {},
   "outputs": [
    {
     "ename": "FileNotFoundError",
     "evalue": "[WinError 2] The system cannot find the file specified",
     "output_type": "error",
     "traceback": [
      "\u001b[1;31m---------------------------------------------------------------------------\u001b[0m",
      "\u001b[1;31mFileNotFoundError\u001b[0m                         Traceback (most recent call last)",
      "\u001b[1;32m<ipython-input-20-b2830e6c3431>\u001b[0m in \u001b[0;36m<module>\u001b[1;34m\u001b[0m\n\u001b[0;32m     12\u001b[0m \u001b[1;33m\u001b[0m\u001b[0m\n\u001b[0;32m     13\u001b[0m \u001b[1;31m#subprocess.run(gdalTranslate + \" -co TFW=YES -a_srs EPSG:2180 -of Gtiff -co COMPRESS=LZW \" + src + \" \" +  dst)\u001b[0m\u001b[1;33m\u001b[0m\u001b[1;33m\u001b[0m\u001b[1;33m\u001b[0m\u001b[0m\n\u001b[1;32m---> 14\u001b[1;33m \u001b[0msubprocess\u001b[0m\u001b[1;33m.\u001b[0m\u001b[0mrun\u001b[0m\u001b[1;33m(\u001b[0m\u001b[1;34m\"B:/OSGeo4W64/bin/\"\u001b[0m \u001b[1;33m+\u001b[0m \u001b[0mgdalwarp\u001b[0m \u001b[1;33m+\u001b[0m \u001b[1;34m\" -r near -dstnodata -9999.0 -s_srs EPSG:2180 -t_srs EPSG:4326 -of GTiff \"\u001b[0m \u001b[1;33m+\u001b[0m \u001b[0msrc\u001b[0m \u001b[1;33m+\u001b[0m \u001b[1;34m\" \"\u001b[0m \u001b[1;33m+\u001b[0m \u001b[0mdst2\u001b[0m\u001b[1;33m)\u001b[0m\u001b[1;33m\u001b[0m\u001b[1;33m\u001b[0m\u001b[0m\n\u001b[0m\u001b[0;32m     15\u001b[0m \u001b[0mshow\u001b[0m\u001b[1;33m(\u001b[0m\u001b[0mrasterio\u001b[0m\u001b[1;33m.\u001b[0m\u001b[0mopen\u001b[0m\u001b[1;33m(\u001b[0m\u001b[0mdst2\u001b[0m\u001b[1;33m)\u001b[0m\u001b[1;33m)\u001b[0m\u001b[1;33m\u001b[0m\u001b[1;33m\u001b[0m\u001b[0m\n",
      "\u001b[1;32m~\\.conda\\envs\\jad3\\lib\\subprocess.py\u001b[0m in \u001b[0;36mrun\u001b[1;34m(input, capture_output, timeout, check, *popenargs, **kwargs)\u001b[0m\n\u001b[0;32m    487\u001b[0m         \u001b[0mkwargs\u001b[0m\u001b[1;33m[\u001b[0m\u001b[1;34m'stderr'\u001b[0m\u001b[1;33m]\u001b[0m \u001b[1;33m=\u001b[0m \u001b[0mPIPE\u001b[0m\u001b[1;33m\u001b[0m\u001b[1;33m\u001b[0m\u001b[0m\n\u001b[0;32m    488\u001b[0m \u001b[1;33m\u001b[0m\u001b[0m\n\u001b[1;32m--> 489\u001b[1;33m     \u001b[1;32mwith\u001b[0m \u001b[0mPopen\u001b[0m\u001b[1;33m(\u001b[0m\u001b[1;33m*\u001b[0m\u001b[0mpopenargs\u001b[0m\u001b[1;33m,\u001b[0m \u001b[1;33m**\u001b[0m\u001b[0mkwargs\u001b[0m\u001b[1;33m)\u001b[0m \u001b[1;32mas\u001b[0m \u001b[0mprocess\u001b[0m\u001b[1;33m:\u001b[0m\u001b[1;33m\u001b[0m\u001b[1;33m\u001b[0m\u001b[0m\n\u001b[0m\u001b[0;32m    490\u001b[0m         \u001b[1;32mtry\u001b[0m\u001b[1;33m:\u001b[0m\u001b[1;33m\u001b[0m\u001b[1;33m\u001b[0m\u001b[0m\n\u001b[0;32m    491\u001b[0m             \u001b[0mstdout\u001b[0m\u001b[1;33m,\u001b[0m \u001b[0mstderr\u001b[0m \u001b[1;33m=\u001b[0m \u001b[0mprocess\u001b[0m\u001b[1;33m.\u001b[0m\u001b[0mcommunicate\u001b[0m\u001b[1;33m(\u001b[0m\u001b[0minput\u001b[0m\u001b[1;33m,\u001b[0m \u001b[0mtimeout\u001b[0m\u001b[1;33m=\u001b[0m\u001b[0mtimeout\u001b[0m\u001b[1;33m)\u001b[0m\u001b[1;33m\u001b[0m\u001b[1;33m\u001b[0m\u001b[0m\n",
      "\u001b[1;32m~\\.conda\\envs\\jad3\\lib\\subprocess.py\u001b[0m in \u001b[0;36m__init__\u001b[1;34m(self, args, bufsize, executable, stdin, stdout, stderr, preexec_fn, close_fds, shell, cwd, env, universal_newlines, startupinfo, creationflags, restore_signals, start_new_session, pass_fds, encoding, errors, text)\u001b[0m\n\u001b[0;32m    852\u001b[0m                             encoding=encoding, errors=errors)\n\u001b[0;32m    853\u001b[0m \u001b[1;33m\u001b[0m\u001b[0m\n\u001b[1;32m--> 854\u001b[1;33m             self._execute_child(args, executable, preexec_fn, close_fds,\n\u001b[0m\u001b[0;32m    855\u001b[0m                                 \u001b[0mpass_fds\u001b[0m\u001b[1;33m,\u001b[0m \u001b[0mcwd\u001b[0m\u001b[1;33m,\u001b[0m \u001b[0menv\u001b[0m\u001b[1;33m,\u001b[0m\u001b[1;33m\u001b[0m\u001b[1;33m\u001b[0m\u001b[0m\n\u001b[0;32m    856\u001b[0m                                 \u001b[0mstartupinfo\u001b[0m\u001b[1;33m,\u001b[0m \u001b[0mcreationflags\u001b[0m\u001b[1;33m,\u001b[0m \u001b[0mshell\u001b[0m\u001b[1;33m,\u001b[0m\u001b[1;33m\u001b[0m\u001b[1;33m\u001b[0m\u001b[0m\n",
      "\u001b[1;32m~\\.conda\\envs\\jad3\\lib\\subprocess.py\u001b[0m in \u001b[0;36m_execute_child\u001b[1;34m(self, args, executable, preexec_fn, close_fds, pass_fds, cwd, env, startupinfo, creationflags, shell, p2cread, p2cwrite, c2pread, c2pwrite, errread, errwrite, unused_restore_signals, unused_start_new_session)\u001b[0m\n\u001b[0;32m   1305\u001b[0m             \u001b[1;31m# Start the process\u001b[0m\u001b[1;33m\u001b[0m\u001b[1;33m\u001b[0m\u001b[1;33m\u001b[0m\u001b[0m\n\u001b[0;32m   1306\u001b[0m             \u001b[1;32mtry\u001b[0m\u001b[1;33m:\u001b[0m\u001b[1;33m\u001b[0m\u001b[1;33m\u001b[0m\u001b[0m\n\u001b[1;32m-> 1307\u001b[1;33m                 hp, ht, pid, tid = _winapi.CreateProcess(executable, args,\n\u001b[0m\u001b[0;32m   1308\u001b[0m                                          \u001b[1;31m# no special security\u001b[0m\u001b[1;33m\u001b[0m\u001b[1;33m\u001b[0m\u001b[1;33m\u001b[0m\u001b[0m\n\u001b[0;32m   1309\u001b[0m                                          \u001b[1;32mNone\u001b[0m\u001b[1;33m,\u001b[0m \u001b[1;32mNone\u001b[0m\u001b[1;33m,\u001b[0m\u001b[1;33m\u001b[0m\u001b[1;33m\u001b[0m\u001b[0m\n",
      "\u001b[1;31mFileNotFoundError\u001b[0m: [WinError 2] The system cannot find the file specified"
     ]
    }
   ],
   "source": [
    "from osgeo import gdal\n",
    "import subprocess\n",
    "import matplotlib.image as mpimg\n",
    "\n",
    "path = \"B:/OSGeo4W64/bin/\"\n",
    "gdalTranslate = \"gdal_translate.exe\"\n",
    "gdalwarp=\"gdalwarp.exe\"\n",
    "src = \"szmaragdowe_geotif.tif\"\n",
    "dst = \"szmaragdowe_geotif_translate.tif\"\n",
    "dst2 = \"szmaragdowe_geotif_4326.tif\"\n",
    "\n",
    "\n",
    "#subprocess.run(gdalTranslate + \" -co TFW=YES -a_srs EPSG:2180 -of Gtiff -co COMPRESS=LZW \" + src + \" \" +  dst)\n",
    "subprocess.run(\"B:/OSGeo4W64/bin/\" + gdalwarp + \" -r near -dstnodata -9999.0 -s_srs EPSG:2180 -t_srs EPSG:4326 -of GTiff \" + src + \" \" + dst2)\n",
    "show(rasterio.open(dst2))"
   ]
  },
  {
   "cell_type": "markdown",
   "metadata": {},
   "source": [
    "Metoda mieszana. Dokonaj obliczenia nachyleń na podstawie modelu dem, a nastepnie zreklasyfikuj na 2 klasy: 1 <20; 2>=20 i oblicz ich powierzchnię w [ha]"
   ]
  },
  {
   "cell_type": "code",
   "execution_count": 21,
   "metadata": {},
   "outputs": [
    {
     "name": "stdout",
     "output_type": "stream",
     "text": [
      "(208859.5, 1.0, 0.0, 620948.5, 0.0, -1.0)\n",
      "1.0 14.6154 ha\n",
      "2.0 6.0142 ha\n"
     ]
    },
    {
     "data": {
      "text/plain": [
       "<matplotlib.colorbar.Colorbar at 0x1e2b9440a00>"
      ]
     },
     "execution_count": 21,
     "metadata": {},
     "output_type": "execute_result"
    },
    {
     "data": {
      "image/png": "[encoded data removed]",
      "text/plain": [
       "<Figure size 432x288 with 2 Axes>"
      ]
     },
     "metadata": {
      "needs_background": "light"
     },
     "output_type": "display_data"
    }
   ],
   "source": [
    "from osgeo import gdal\n",
    "import subprocess\n",
    "import numpy as np\n",
    "import collections\n",
    "from matplotlib import pyplot\n",
    "\n",
    "gdaldem = \"gdaldem.exe slope\"\n",
    "src = \"szmaragdowe_geotif.tif\"\n",
    "dst = \"szmaragdowe_geotif_slope.tif\"\n",
    "\n",
    "subprocess.run(gdaldem + \" -of Gtiff -b 1 -s 1.0 \" + src + \" \" +  dst)\n",
    "\n",
    "driver = gdal.GetDriverByName('GTiff')\n",
    "file = gdal.Open(dst)\n",
    "band = file.GetRasterBand(1)\n",
    "slope = band.ReadAsArray()\n",
    "\n",
    "area_per_pixel=file.GetGeoTransform()\n",
    "print(area_per_pixel)\n",
    "# reklasyfikacja\n",
    "slope[np.where( slope < 20 )] = 1\n",
    "slope[np.where( slope >= 20 )] = 2\n",
    "\n",
    "\n",
    "for x in np.unique(slope):\n",
    "    tot_num_pixels = np.sum(slope == x)\n",
    "    area = tot_num_pixels * area_per_pixel[1]\n",
    "    print (x, area/10000, 'ha')\n",
    "\n",
    "\n",
    "# zapis pliku\n",
    "file2 = driver.Create( 'szmaragdowe_geotif_slope_reclass.tif', file.RasterXSize , file.RasterYSize , 1)\n",
    "file2.GetRasterBand(1).WriteArray(slope)\n",
    "\n",
    "# układ współrzędnych pobierany z pliku źródłowego\n",
    "proj = file.GetProjection()\n",
    "georef = file.GetGeoTransform()\n",
    "file2.SetProjection(proj)\n",
    "file2.SetGeoTransform(georef)\n",
    "file2.FlushCache()\n",
    "pyplot.imshow ( slope, interpolation='nearest', vmin=1)\n",
    "pyplot.colorbar()"
   ]
  },
  {
   "cell_type": "code",
   "execution_count": null,
   "metadata": {},
   "outputs": [],
   "source": []
  }
 ],
 "metadata": {
  "kernelspec": {
   "display_name": "Python 3",
   "language": "python",
   "name": "python3"
  },
  "language_info": {
   "codemirror_mode": {
    "name": "ipython",
    "version": 3
   },
   "file_extension": ".py",
   "mimetype": "text/x-python",
   "name": "python",
   "nbconvert_exporter": "python",
   "pygments_lexer": "ipython3",
   "version": "3.8.5"
  }
 },
 "nbformat": 4,
 "nbformat_minor": 4
}
